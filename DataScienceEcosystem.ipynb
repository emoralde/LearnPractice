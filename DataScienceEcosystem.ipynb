{
 "cells": [
  {
   "cell_type": "markdown",
   "id": "f7ba0f9d-d180-4efd-90f6-b53bbeb1ae18",
   "metadata": {
    "tags": []
   },
   "source": [
    "# Data Science Tools and Ecosystem"
   ]
  },
  {
   "cell_type": "markdown",
   "id": "988aa114-4090-4411-9f4c-10395fd80513",
   "metadata": {
    "tags": []
   },
   "source": [
    "# In this notebook, Data Science Tools and Ecosystem are summarized."
   ]
  },
  {
   "cell_type": "markdown",
   "id": "7fd34c3c-0a81-437f-a423-8c8b01b5ff8d",
   "metadata": {},
   "source": [
    "# **Objective:**\n",
    "* List popular languages for data science\n",
    "* List popular libraries for data science\n",
    "* List popular development environment open source tools used by data science"
   ]
  },
  {
   "cell_type": "markdown",
   "id": "5eea0aae-9506-4eb5-92db-e568fdcccc89",
   "metadata": {
    "tags": []
   },
   "source": [
    "# Some of the popular Languages that Data Scientists use are:\n",
    "1. Python\n",
    "2. Java\n",
    "3. Scala"
   ]
  },
  {
   "cell_type": "markdown",
   "id": "7ce969b7-952b-4d65-943a-6d2ca5c8998a",
   "metadata": {
    "tags": []
   },
   "source": [
    "# Some of the commonly used libraries used by Data Scientists include:\n",
    "1. Pandas\n",
    "2. TensorFlow\n",
    "3. PyTorch"
   ]
  },
  {
   "cell_type": "markdown",
   "id": "e8920e1c-9a9f-436f-84c3-f28aa8fc973c",
   "metadata": {},
   "source": [
    "|Data Science Tools|\n",
    "| ------ |\n",
    "|RStudio|\n",
    "|Apache Zeppelin|\n",
    "|Jupyter Lab|"
   ]
  },
  {
   "cell_type": "markdown",
   "id": "e1d0fa79-882f-4956-af6a-b2edb71ac7ec",
   "metadata": {},
   "source": [
    "### Below are a few examples of evaluating arithmetic expressions in Python"
   ]
  },
  {
   "cell_type": "code",
   "execution_count": 5,
   "id": "f4cca81f-3318-40f7-84c1-8ed274e841c7",
   "metadata": {},
   "outputs": [
    {
     "data": {
      "text/plain": [
       "17"
      ]
     },
     "execution_count": 5,
     "metadata": {},
     "output_type": "execute_result"
    }
   ],
   "source": [
    "# This a simple arithmetic expression to mutiply then add integers:\n",
    "\n",
    "(3*4)+5"
   ]
  },
  {
   "cell_type": "code",
   "execution_count": 5,
   "id": "851c36dc-c7f4-43f4-b50d-d332f8fbfd8c",
   "metadata": {},
   "outputs": [
    {
     "name": "stdout",
     "output_type": "stream",
     "text": [
      "3.3333333333333335\n"
     ]
    }
   ],
   "source": [
    "# This will convert 200 minutes to hours by diving by 60\n",
    "\n",
    "min = 200\n",
    "min_in_hour = 60\n",
    "convert = print(min/min_in_hour)"
   ]
  },
  {
   "cell_type": "markdown",
   "id": "0eb7113d-64b4-4c52-a099-676247b92b8c",
   "metadata": {},
   "source": [
    "## Author\n",
    "Erbert Moralde"
   ]
  }
 ],
 "metadata": {
  "kernelspec": {
   "display_name": "Python",
   "language": "python",
   "name": "conda-env-python-py"
  },
  "language_info": {
   "codemirror_mode": {
    "name": "ipython",
    "version": 3
   },
   "file_extension": ".py",
   "mimetype": "text/x-python",
   "name": "python",
   "nbconvert_exporter": "python",
   "pygments_lexer": "ipython3",
   "version": "3.7.12"
  }
 },
 "nbformat": 4,
 "nbformat_minor": 5
}
